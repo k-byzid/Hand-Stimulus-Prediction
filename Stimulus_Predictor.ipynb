{
 "cells": [
  {
   "cell_type": "markdown",
   "id": "c64d2aea-baa6-49a7-bace-ded22c2bb520",
   "metadata": {
    "id": "c64d2aea-baa6-49a7-bace-ded22c2bb520",
    "jp-MarkdownHeadingCollapsed": true,
    "tags": []
   },
   "source": [
    "# Installing Dependencies"
   ]
  },
  {
   "cell_type": "code",
   "execution_count": null,
   "id": "7b73a7ba-3b28-40da-a05d-568cf14d60e1",
   "metadata": {
    "id": "7b73a7ba-3b28-40da-a05d-568cf14d60e1"
   },
   "outputs": [],
   "source": [
    "import pandas as pd\n",
    "from scipy.io import loadmat\n",
    "import os\n",
    "import matplotlib.pyplot as plt\n",
    "import seaborn as sns\n",
    "import numpy as np\n",
    "import tensorflow as tf\n",
    "import math\n",
    "import random \n",
    "\n",
    "from sklearn.model_selection import train_test_split\n",
    "from sklearn import metrics\n",
    "from sklearn.metrics import confusion_matrix, f1_score, accuracy_score, classification_report, precision_score, recall_score\n",
    "from sklearn import tree\n",
    "from sklearn.neighbors import KNeighborsClassifier\n",
    "from sklearn.ensemble import RandomForestClassifier"
   ]
  },
  {
   "cell_type": "markdown",
   "id": "f2700dec-cdfa-4868-8615-78c1b9a32a4c",
   "metadata": {
    "id": "f2700dec-cdfa-4868-8615-78c1b9a32a4c",
    "jp-MarkdownHeadingCollapsed": true,
    "tags": []
   },
   "source": [
    "# Auxillary Functions"
   ]
  },
  {
   "cell_type": "code",
   "execution_count": null,
   "id": "a11ede3f-cd68-49c1-bebb-aad27bd62437",
   "metadata": {
    "id": "a11ede3f-cd68-49c1-bebb-aad27bd62437"
   },
   "outputs": [],
   "source": [
    "# This function takes the .mat files for exercise 1 and 2. It includes the glove values, emg values, stimulus and restimulus of the patients\n",
    "\n",
    "def dataset_loader(path, data_per_subject):\n",
    "  dataset_user = []\n",
    "  emg_columns = []\n",
    "  glove_columns = []\n",
    "  for i in range(12):\n",
    "    emg_columns.append('emg{}'.format(i+1))\n",
    "  for i in range(22):\n",
    "    glove_columns.append('glove{}'.format(i+1))\n",
    "  for directory_path, directory_names, directory_files in os.walk(path):\n",
    "    path_training = []\n",
    "    for files in directory_files:\n",
    "      path_training.append(os.path.join(directory_path, files))\n",
    "    for i, path in enumerate(path_training):\n",
    "      if '.mat' in path and 'E3' not in path:\n",
    "        Exer = loadmat(path)\n",
    "        rows = Exer['emg'].shape[0]\n",
    "        random_indices = np.random.choice(rows, size=data_per_subject, replace=False)\n",
    "        emg, stimulus, restimulus, glove = Exer['emg'][random_indices], Exer['stimulus'][random_indices], Exer['restimulus'][random_indices], Exer['glove'][random_indices]\n",
    "        dataset = pd.DataFrame(emg, columns = emg_columns)\n",
    "        glove = pd.DataFrame(glove, columns = glove_columns)\n",
    "        dataset[glove_columns] = glove\n",
    "        stimulus = pd.DataFrame(stimulus)\n",
    "        restimulus = pd.DataFrame(restimulus)\n",
    "        dataset['stimulus'] = stimulus\n",
    "        dataset['restimulus'] = restimulus\n",
    "        dataset_user.append(dataset)\n",
    "  dataset = pd.concat(dataset_user, axis = 0).sample(frac = 1.0, random_state = 42).reset_index(drop = True)\n",
    "  return dataset"
   ]
  },
  {
   "cell_type": "code",
   "execution_count": null,
   "id": "516d63c7-2254-4797-879b-afa231576a00",
   "metadata": {
    "id": "516d63c7-2254-4797-879b-afa231576a00"
   },
   "outputs": [],
   "source": [
    "# This is used to visualize the count of unique values in a given pandas column\n",
    "\n",
    "def count_visualizer(dataset, col_name):\n",
    "    data = dataset\n",
    "    fig, ax = plt.subplots()\n",
    "    ax.hist(data[col_name])\n",
    "    ax.set_title('Frequency of Unique Values')\n",
    "    ax.set_xlabel('Unique Value Label')\n",
    "    ax.set_ylabel('Count')"
   ]
  },
  {
   "cell_type": "code",
   "execution_count": null,
   "id": "92ac3372-c42a-491a-b131-2d593fc6f0d2",
   "metadata": {
    "id": "92ac3372-c42a-491a-b131-2d593fc6f0d2"
   },
   "outputs": [],
   "source": [
    "# This is to get an array of (stimulus, stimulus_count) in the dataset\n",
    "\n",
    "def stimulus_count(data, column):\n",
    "    stim_count = []\n",
    "    stim = data[column].unique()\n",
    "    for i in range(len(stim)):\n",
    "        stim_count.append([stim[i], np.count_nonzero(data[column] == stim[i])])\n",
    "        \n",
    "    return stim_count"
   ]
  },
  {
   "cell_type": "code",
   "execution_count": null,
   "id": "a7ef44da-d348-4e55-b88a-df29160f6b3c",
   "metadata": {
    "id": "a7ef44da-d348-4e55-b88a-df29160f6b3c"
   },
   "outputs": [],
   "source": [
    "# This is used to find the number of features that have a correlation factor greater than a threshold compared to other features\n",
    "# To get an array of the columns, set get_cols = True\n",
    "\n",
    "def correlation_counter(dataset, features, correlation_threshold, count_limit, get_cols = False):\n",
    "    if get_cols == False:\n",
    "        print(\"Feature: (Correlation > {}) count\".format(correlation_threshold))\n",
    "    EMG_data_correlation = dataset[features].corr()\n",
    "    columns = []\n",
    "    for y in range(len(EMG_data_correlation)):\n",
    "        cr_count = 0\n",
    "        for x in EMG_data_correlation[features[y]]:\n",
    "            if abs(x) > correlation_threshold:\n",
    "                cr_count += 1\n",
    "        if (cr_count - 1) > count_limit and get_cols == False:\n",
    "            print(f\"    {features[y]}: {cr_count - 1}\")   \n",
    "        if (cr_count - 1) > count_limit and get_cols == True:\n",
    "            columns.append(features[y])\n",
    "    if get_cols == True:\n",
    "        return columns"
   ]
  },
  {
   "cell_type": "markdown",
   "id": "c59da7c1-4e47-437a-9f38-66e530dda27d",
   "metadata": {
    "id": "c59da7c1-4e47-437a-9f38-66e530dda27d",
    "jp-MarkdownHeadingCollapsed": true,
    "tags": []
   },
   "source": [
    "# Dataset Procurement"
   ]
  },
  {
   "cell_type": "code",
   "execution_count": null,
   "id": "13b58cc9-3d8d-43ac-a70a-3e00b400ad92",
   "metadata": {
    "id": "13b58cc9-3d8d-43ac-a70a-3e00b400ad92"
   },
   "outputs": [],
   "source": [
    "# Data is taken from 11 subjects, this code also includes an option to take data from random number of subjects\n",
    "# sEMG, glove, stimulus, restimulus data is taken\n",
    "\n",
    "index = []\n",
    "subject_count = 11\n",
    "start_index = 1     #always = 1 by default\n",
    "data_per_subject = 30000\n",
    "data = []\n",
    "\n",
    "for i in range(subject_count):\n",
    "    index.append('{}'.format(i+start_index))\n",
    "\n",
    "path = [[\"Datasets/s\" + i + \"_0/DB3_s\" + i] for i in index]\n",
    "for i, path in enumerate(path):\n",
    "    data.append(dataset_loader(path[0], data_per_subject = data_per_subject))\n",
    "\n",
    "dataset = pd.concat(data, axis = 0).sample(frac = 1.0, random_state = 42).reset_index(drop = True)\n",
    "columns = dataset.columns\n",
    "features = columns[:-2]\n",
    "target = columns[-2:]"
   ]
  },
  {
   "cell_type": "code",
   "execution_count": null,
   "id": "9a53e6de-5347-4331-ab1f-92a41b9adcae",
   "metadata": {
    "id": "9a53e6de-5347-4331-ab1f-92a41b9adcae",
    "outputId": "e2c7ccec-a8a2-48f2-df66-c194496c4ef8"
   },
   "outputs": [
    {
     "name": "stdout",
     "output_type": "stream",
     "text": [
      "[[11, 11840], [17, 12150], [24, 9546], [0, 256851], [21, 9395], [35, 7837], [13, 12134], [12, 12129], [15, 12175], [14, 12124], [23, 9352], [36, 7837], [9, 12099], [16, 11989], [37, 7796], [39, 7761], [38, 7933], [3, 11841], [40, 7752], [25, 9324], [7, 12137], [10, 12194], [22, 9341], [27, 9414], [4, 11983], [26, 9301], [20, 9045], [18, 9325], [32, 7673], [1, 12137], [2, 11913], [31, 7976], [5, 12105], [28, 9301], [29, 9424], [19, 9283], [8, 12152], [34, 7825], [6, 12084], [33, 7708], [30, 7814]]\n",
      "\n",
      "\n"
     ]
    },
    {
     "data": {
      "image/png": "[encoded data removed]",
      "text/plain": [
       "<Figure size 640x480 with 1 Axes>"
      ]
     },
     "metadata": {},
     "output_type": "display_data"
    }
   ],
   "source": [
    "# This gives the stimulus values and their counts\n",
    "\n",
    "stim_count = stimulus_count(dataset, target[0])\n",
    "print(stim_count)\n",
    "print('\\n')\n",
    "count_visualizer(dataset, target[0])"
   ]
  },
  {
   "cell_type": "code",
   "execution_count": null,
   "id": "d521bd9b-0064-4b92-919a-fd7b22821012",
   "metadata": {
    "id": "d521bd9b-0064-4b92-919a-fd7b22821012",
    "outputId": "0f180808-345f-40d6-a153-926fe97337b1"
   },
   "outputs": [
    {
     "name": "stdout",
     "output_type": "stream",
     "text": [
      "Number of features: 34\n",
      "Number of features without missing/zero data: 34\n"
     ]
    }
   ],
   "source": [
    "#Check for missing/zero data in the features:\n",
    "\n",
    "missing_count = (dataset[features].isnull().sum())/(len(dataset[features]))\n",
    "print(f\"Number of features: {len(features)}\")\n",
    "print(f\"Number of features without missing/zero data: {missing_count.isnull().count()}\")"
   ]
  },
  {
   "cell_type": "code",
   "execution_count": null,
   "id": "c656b185-7343-483c-9f54-d2ba5ae67578",
   "metadata": {
    "id": "c656b185-7343-483c-9f54-d2ba5ae67578",
    "outputId": "ca76a867-1c0f-4235-abb5-80d7cd08a0ff"
   },
   "outputs": [
    {
     "data": {
      "text/plain": [
       "<Axes: >"
      ]
     },
     "execution_count": 43,
     "metadata": {},
     "output_type": "execute_result"
    },
    {
     "data": {
      "image/png": "[encoded data removed]",
      "text/plain": [
       "<Figure size 640x480 with 2 Axes>"
      ]
     },
     "metadata": {},
     "output_type": "display_data"
    }
   ],
   "source": [
    "#Check Correlation between the features using heatmap:\n",
    "\n",
    "EMG_data_correlation = dataset[features].corr()\n",
    "sns.heatmap(EMG_data_correlation, cmap = 'YlGnBu')"
   ]
  },
  {
   "cell_type": "code",
   "execution_count": null,
   "id": "aafda586-03e4-47a5-a7d6-a967515f0252",
   "metadata": {
    "id": "aafda586-03e4-47a5-a7d6-a967515f0252",
    "outputId": "ae9342f3-4f06-4b29-cafb-dd3b8264e999"
   },
   "outputs": [
    {
     "name": "stdout",
     "output_type": "stream",
     "text": [
      "Feature: (Correlation > 0.75) count\n",
      "    glove8: 2\n",
      "    glove12: 2\n",
      "    glove16: 2\n"
     ]
    }
   ],
   "source": [
    "#Check number of occurences of Correlation > 0.75 between the features:\n",
    "#This can be used to eliminate features that behave similar to other features thus reducing computational power requirements\n",
    "\n",
    "correlation_counter(dataset, features, correlation_threshold = 0.75, count_limit = 1, get_cols = False)"
   ]
  },
  {
   "cell_type": "markdown",
   "id": "5e87c014-63cb-4584-a132-0fef6ce65c44",
   "metadata": {
    "id": "5e87c014-63cb-4584-a132-0fef6ce65c44",
    "jp-MarkdownHeadingCollapsed": true,
    "tags": []
   },
   "source": [
    "# Dataset Preprocessing"
   ]
  },
  {
   "cell_type": "code",
   "execution_count": null,
   "id": "0bbbfcd6-a637-42e9-9247-ade76c50d14e",
   "metadata": {
    "id": "0bbbfcd6-a637-42e9-9247-ade76c50d14e",
    "outputId": "c9977022-6fb2-4e2f-a52f-e2bd15149a39"
   },
   "outputs": [
    {
     "name": "stdout",
     "output_type": "stream",
     "text": [
      "Shape of Dataset after elimination: (660000, 33)\n"
     ]
    }
   ],
   "source": [
    "#Feature selection based on correlation count:\n",
    "#Remove features if number of (correlation > 0.75) count > 1:\n",
    "\n",
    "columns_to_drop = correlation_counter(dataset, features, correlation_threshold = 0.75, count_limit = 1, get_cols = True)\n",
    "dataset = dataset.drop(columns_to_drop, axis = 1)\n",
    "\n",
    "columns = dataset.columns\n",
    "features = columns[:-2]\n",
    "target = columns[-2:]\n",
    "print('Shape of Dataset after elimination: {}'.format(dataset.shape))"
   ]
  },
  {
   "cell_type": "code",
   "execution_count": null,
   "id": "3c9a2c53-3661-40b5-a230-7cd93cf6bfcd",
   "metadata": {
    "id": "3c9a2c53-3661-40b5-a230-7cd93cf6bfcd",
    "outputId": "5ffc5b8f-d0d4-4f93-9ae0-ccc3a3650e71"
   },
   "outputs": [
    {
     "name": "stdout",
     "output_type": "stream",
     "text": [
      "Shape of Dataset after elimination: (555540, 33)\n"
     ]
    }
   ],
   "source": [
    "# Row deduction based on whether stimulus == restimulus for securing stronger data for training\n",
    "\n",
    "indexes = dataset[(dataset['stimulus'] != dataset['restimulus'])].index\n",
    "dataset.drop(indexes, inplace = True)\n",
    "print('Shape of Dataset after elimination: {}'.format(dataset.shape))"
   ]
  },
  {
   "cell_type": "code",
   "execution_count": null,
   "id": "19cb6c9b-87b1-4ed7-9266-bfa7116e3823",
   "metadata": {
    "id": "19cb6c9b-87b1-4ed7-9266-bfa7116e3823",
    "outputId": "faf0570b-e8ed-437c-b7ce-38b978a3c161"
   },
   "outputs": [
    {
     "name": "stdout",
     "output_type": "stream",
     "text": [
      "Shape of Dataset after elimination: (555540, 33)\n"
     ]
    }
   ],
   "source": [
    "# Row deduction based on which stimuli to keep for model training\n",
    "\n",
    "#stimulus_to_keep = [41, 42, 43, 44, 45, 46]          #Keep selective stimuli\n",
    "stimulus_to_keep = stim                               #Keep all the stimuli\n",
    "for i in range(len(stimulus_to_keep)):\n",
    "    indexes_2 = dataset[~(dataset['stimulus'].isin(stimulus_to_keep))].index\n",
    "    dataset.drop(indexes_2, inplace = True)\n",
    "print('Shape of Dataset after elimination: {}'.format(dataset.shape))"
   ]
  },
  {
   "cell_type": "code",
   "execution_count": null,
   "id": "c89710bd-34c4-4905-98fe-99b9f272759f",
   "metadata": {
    "id": "c89710bd-34c4-4905-98fe-99b9f272759f",
    "outputId": "e067eb44-7a9d-458e-be05-7815a90f224e"
   },
   "outputs": [
    {
     "name": "stdout",
     "output_type": "stream",
     "text": [
      "Shape of Dataset after elimination: (354858, 33)\n"
     ]
    }
   ],
   "source": [
    "# Row deduction based on uneven distribution of stimulus data (rest position / stimulus = 0)\n",
    "\n",
    "stim_count = stimulus_count(dataset, target[0])\n",
    "for i, z in stim_count[:]:\n",
    "    if i in stimulus_to_keep:\n",
    "        if i == 0:\n",
    "            indexes_3 = dataset[(dataset[target[0]] == 0)].index\n",
    "            total_count_without0 = 0\n",
    "            for i in range(len(stim_count)):\n",
    "                if stim_count[i][0] == 0:\n",
    "                    continue\n",
    "                else:\n",
    "                    total_count_without0 += stim_count[i][1]\n",
    "            average_without_zero = math.ceil(total_count_without0 / (len(stim_count) - 1))\n",
    "            indexes_3 = random.sample(list(indexes_3), len(dataset[dataset[target[0]] == 0]) - average_without_zero)\n",
    "            indexes_3 = pd.Index(indexes_3, dtype = 'Int64')\n",
    "            dataset.drop(indexes_3, inplace = True)\n",
    "print('Shape of Dataset after elimination: {}'.format(dataset.shape))"
   ]
  },
  {
   "cell_type": "code",
   "execution_count": null,
   "id": "db08c5d3-cd24-41ee-b5fa-61160fbba4b5",
   "metadata": {
    "id": "db08c5d3-cd24-41ee-b5fa-61160fbba4b5"
   },
   "outputs": [],
   "source": [
    "# Normalize the data between -1 and 1\n",
    "\n",
    "for i in range(len(features)):\n",
    "  dataset[features[i]] /= np.max(np.abs(dataset[features[i]]))"
   ]
  },
  {
   "cell_type": "code",
   "execution_count": null,
   "id": "6a4a04bf-d4ab-4054-ac92-b3d9a0274bd9",
   "metadata": {
    "id": "6a4a04bf-d4ab-4054-ac92-b3d9a0274bd9",
    "outputId": "b0b18d44-cc31-468d-dbb3-afa43af86856"
   },
   "outputs": [
    {
     "name": "stdout",
     "output_type": "stream",
     "text": [
      "Shape of x_train: (283886, 31)\n",
      "Shape of y_train: (283886,)\n",
      "Shape of x_test: (70972, 31)\n",
      "Shape of y_test: (70972,)\n"
     ]
    }
   ],
   "source": [
    "# Dataset loading for the models\n",
    "\n",
    "x = dataset.iloc[:, :-2]\n",
    "y = dataset[target[0]]\n",
    "x_train, x_test, y_train, y_test = train_test_split(x, y, test_size = 0.20, \n",
    "                                                    random_state = 39, shuffle = True)\n",
    "\n",
    "print(\"Shape of x_train: {}\\nShape of y_train: {}\\nShape of x_test: {}\\nShape of y_test: {}\".format(x_train.shape,\n",
    "                                                                                                   y_train.shape,\n",
    "                                                                                                   x_test.shape,\n",
    "                                                                                                   y_test.shape))"
   ]
  },
  {
   "cell_type": "markdown",
   "id": "eddf5c26-3611-4f76-99d8-6b683cb62e62",
   "metadata": {
    "id": "eddf5c26-3611-4f76-99d8-6b683cb62e62",
    "jp-MarkdownHeadingCollapsed": true,
    "tags": []
   },
   "source": [
    "# Machine Learning Models"
   ]
  },
  {
   "cell_type": "markdown",
   "id": "a6b22140-c696-446d-a483-8501b9e7d336",
   "metadata": {
    "id": "a6b22140-c696-446d-a483-8501b9e7d336"
   },
   "source": [
    "#### Decision Tree Algorithm"
   ]
  },
  {
   "cell_type": "code",
   "execution_count": null,
   "id": "82f7619c-685f-45ac-9a5e-c8b73bc62d25",
   "metadata": {
    "id": "82f7619c-685f-45ac-9a5e-c8b73bc62d25",
    "outputId": "b5593b68-b713-4a89-a821-090f74a0949f"
   },
   "outputs": [
    {
     "name": "stdout",
     "output_type": "stream",
     "text": [
      "Accuracy is: 49.97886490446937\n"
     ]
    }
   ],
   "source": [
    "# Call the Decision Tree model and evaluate the accuracy on test data\n",
    "\n",
    "DT_model = tree.DecisionTreeClassifier(\n",
    "              criterion = \"entropy\",\n",
    "              min_samples_leaf = 3,\n",
    "              min_samples_split = 4,\n",
    "              random_state = 32,\n",
    "              splitter = 'best')\n",
    "\n",
    "DT_model.fit(x_train, y_train)\n",
    "y_pred_DT = DT_model.predict(x_test)\n",
    "accuracy = accuracy_score(y_test, y_pred_DT)\n",
    "print(f\"Accuracy is: {accuracy * 100}\")"
   ]
  },
  {
   "cell_type": "markdown",
   "id": "3306e822-2185-49b5-8b82-27b90c31abc1",
   "metadata": {
    "id": "3306e822-2185-49b5-8b82-27b90c31abc1"
   },
   "source": [
    "#### K-Nearest-Neighbour Classifier"
   ]
  },
  {
   "cell_type": "code",
   "execution_count": null,
   "id": "158e70de-5d00-404e-a830-9c189a4bc100",
   "metadata": {
    "id": "158e70de-5d00-404e-a830-9c189a4bc100",
    "outputId": "f8bd4154-d71f-40ec-d67b-06ed2d138c4f"
   },
   "outputs": [
    {
     "name": "stdout",
     "output_type": "stream",
     "text": [
      "Accuracy is: 42.64216874260271\n"
     ]
    }
   ],
   "source": [
    "# Call the KNN model and evaluate the accuracy on test data\n",
    "\n",
    "KNN_model = KNeighborsClassifier(algorithm = 'kd_tree',\n",
    "                                            leaf_size = 150,\n",
    "                                            metric = 'euclidean',\n",
    "                                            n_jobs = -1,\n",
    "                                            n_neighbors = 3,\n",
    "                                            p = 2,\n",
    "                                            weights = 'distance')\n",
    "\n",
    "KNN_model.fit(x_train, y_train)\n",
    "y_pred_KNN = KNN_model.predict(x_test)\n",
    "accuracy = accuracy_score(y_test, y_pred_KNN)\n",
    "print(f\"Accuracy is: {accuracy * 100}\")"
   ]
  }
 ],
 "metadata": {
  "colab": {
   "provenance": []
  },
  "kernelspec": {
   "display_name": "EMG",
   "language": "python",
   "name": "emg"
  },
  "language_info": {
   "codemirror_mode": {
    "name": "ipython",
    "version": 3
   },
   "file_extension": ".py",
   "mimetype": "text/x-python",
   "name": "python",
   "nbconvert_exporter": "python",
   "pygments_lexer": "ipython3",
   "version": "3.10.9"
  }
 },
 "nbformat": 4,
 "nbformat_minor": 5
}
